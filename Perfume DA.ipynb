{
 "cells": [
  {
   "cell_type": "markdown",
   "id": "c2f2ea26-bfa9-46e3-911c-ea0fac79a6c9",
   "metadata": {},
   "source": [
    "# Perfume E-Commerce Dataset 2024"
   ]
  },
  {
   "cell_type": "code",
   "execution_count": 2,
   "id": "4d68839a-bf0f-430c-83dc-7e7be11ffa38",
   "metadata": {},
   "outputs": [],
   "source": [
    "import pandas as pd\n",
    "import numpy as np\n",
    "import matplotlib.pyplot as plt\n",
    "import seaborn as sns\n",
    "import warnings"
   ]
  },
  {
   "cell_type": "code",
   "execution_count": 3,
   "id": "41d7d353-54a4-42f1-9ead-2fdd8de01ae7",
   "metadata": {},
   "outputs": [
    {
     "data": {
      "text/html": [
       "<div>\n",
       "<style scoped>\n",
       "    .dataframe tbody tr th:only-of-type {\n",
       "        vertical-align: middle;\n",
       "    }\n",
       "\n",
       "    .dataframe tbody tr th {\n",
       "        vertical-align: top;\n",
       "    }\n",
       "\n",
       "    .dataframe thead th {\n",
       "        text-align: right;\n",
       "    }\n",
       "</style>\n",
       "<table border=\"1\" class=\"dataframe\">\n",
       "  <thead>\n",
       "    <tr style=\"text-align: right;\">\n",
       "      <th></th>\n",
       "      <th>brand</th>\n",
       "      <th>title</th>\n",
       "      <th>type</th>\n",
       "      <th>price</th>\n",
       "      <th>priceWithCurrency</th>\n",
       "      <th>available</th>\n",
       "      <th>availableText</th>\n",
       "      <th>sold</th>\n",
       "      <th>lastUpdated</th>\n",
       "      <th>itemLocation</th>\n",
       "    </tr>\n",
       "  </thead>\n",
       "  <tbody>\n",
       "    <tr>\n",
       "      <th>0</th>\n",
       "      <td>Dior</td>\n",
       "      <td>Christian Dior Sauvage Men's EDP 3.4 oz Fragra...</td>\n",
       "      <td>Eau de Parfum</td>\n",
       "      <td>84.99</td>\n",
       "      <td>US $84.99/ea</td>\n",
       "      <td>10.0</td>\n",
       "      <td>More than 10 available / 116 sold</td>\n",
       "      <td>116.0</td>\n",
       "      <td>May 24, 2024 10:03:04 PDT</td>\n",
       "      <td>Allen Park, Michigan, United States</td>\n",
       "    </tr>\n",
       "    <tr>\n",
       "      <th>1</th>\n",
       "      <td>AS SHOW</td>\n",
       "      <td>A-v-entus Eau de Parfum 3.3 oz 100ML Millesime...</td>\n",
       "      <td>Eau de Parfum</td>\n",
       "      <td>109.99</td>\n",
       "      <td>US $109.99</td>\n",
       "      <td>8.0</td>\n",
       "      <td>8 available / 48 sold</td>\n",
       "      <td>48.0</td>\n",
       "      <td>May 23, 2024 23:07:49 PDT</td>\n",
       "      <td>Atlanta, Georgia, Canada</td>\n",
       "    </tr>\n",
       "    <tr>\n",
       "      <th>2</th>\n",
       "      <td>Unbranded</td>\n",
       "      <td>HOGO BOSS cologne For Men 3.4 oz</td>\n",
       "      <td>Eau de Toilette</td>\n",
       "      <td>100.00</td>\n",
       "      <td>US $100.00</td>\n",
       "      <td>10.0</td>\n",
       "      <td>More than 10 available / 27 sold</td>\n",
       "      <td>27.0</td>\n",
       "      <td>May 22, 2024 21:55:43 PDT</td>\n",
       "      <td>Dearborn, Michigan, United States</td>\n",
       "    </tr>\n",
       "    <tr>\n",
       "      <th>3</th>\n",
       "      <td>Giorgio Armani</td>\n",
       "      <td>Acqua Di Gio by Giorgio Armani 6.7 Fl oz Eau D...</td>\n",
       "      <td>Eau de Toilette</td>\n",
       "      <td>44.99</td>\n",
       "      <td>US $44.99/ea</td>\n",
       "      <td>2.0</td>\n",
       "      <td>2 available / 159 sold</td>\n",
       "      <td>159.0</td>\n",
       "      <td>May 24, 2024 03:30:43 PDT</td>\n",
       "      <td>Reinholds, Pennsylvania, United States</td>\n",
       "    </tr>\n",
       "    <tr>\n",
       "      <th>4</th>\n",
       "      <td>Lattafa</td>\n",
       "      <td>Lattafa Men's Hayaati Al Maleky EDP Spray 3.4 ...</td>\n",
       "      <td>Fragrances</td>\n",
       "      <td>16.91</td>\n",
       "      <td>US $16.91</td>\n",
       "      <td>NaN</td>\n",
       "      <td>Limited quantity available / 156 sold</td>\n",
       "      <td>156.0</td>\n",
       "      <td>May 24, 2024 07:56:25 PDT</td>\n",
       "      <td>Brooklyn, New York, United States</td>\n",
       "    </tr>\n",
       "    <tr>\n",
       "      <th>...</th>\n",
       "      <td>...</td>\n",
       "      <td>...</td>\n",
       "      <td>...</td>\n",
       "      <td>...</td>\n",
       "      <td>...</td>\n",
       "      <td>...</td>\n",
       "      <td>...</td>\n",
       "      <td>...</td>\n",
       "      <td>...</td>\n",
       "      <td>...</td>\n",
       "    </tr>\n",
       "    <tr>\n",
       "      <th>995</th>\n",
       "      <td>GUESS</td>\n",
       "      <td>Guess 1981 by Guess cologne for men EDT 3.3 / ...</td>\n",
       "      <td>Eau de Toilette</td>\n",
       "      <td>20.28</td>\n",
       "      <td>US $20.28/ea</td>\n",
       "      <td>45.0</td>\n",
       "      <td>45 available / 1,613 sold</td>\n",
       "      <td>1613.0</td>\n",
       "      <td>May 24, 2024 08:14:07 PDT</td>\n",
       "      <td>Dallas, Texas, United States</td>\n",
       "    </tr>\n",
       "    <tr>\n",
       "      <th>996</th>\n",
       "      <td>Armaf</td>\n",
       "      <td>Club de Nuit Intense by Armaf cologne for men ...</td>\n",
       "      <td>Eau de Toilette</td>\n",
       "      <td>30.58</td>\n",
       "      <td>US $30.58</td>\n",
       "      <td>10.0</td>\n",
       "      <td>More than 10 available / 31 sold</td>\n",
       "      <td>31.0</td>\n",
       "      <td>May 23, 2024 08:39:30 PDT</td>\n",
       "      <td>United States</td>\n",
       "    </tr>\n",
       "    <tr>\n",
       "      <th>997</th>\n",
       "      <td>Paco Rabanne</td>\n",
       "      <td>Invictus by Paco Rabanne for Men EDT Spray 3.4...</td>\n",
       "      <td>Eau de Toilette</td>\n",
       "      <td>39.99</td>\n",
       "      <td>US $39.99/ea</td>\n",
       "      <td>2.0</td>\n",
       "      <td>2 available / 305 sold</td>\n",
       "      <td>305.0</td>\n",
       "      <td>May 23, 2024 15:27:18 PDT</td>\n",
       "      <td>Jamaica, New York, United States</td>\n",
       "    </tr>\n",
       "    <tr>\n",
       "      <th>998</th>\n",
       "      <td>Lomani</td>\n",
       "      <td>Lomani EDT Cologne 3.4 oz Men - Authentic, Bra...</td>\n",
       "      <td>Eau de Toilette</td>\n",
       "      <td>9.99</td>\n",
       "      <td>US $9.99/ea</td>\n",
       "      <td>2.0</td>\n",
       "      <td>2 available / 22 sold</td>\n",
       "      <td>22.0</td>\n",
       "      <td>May 20, 2024 13:20:54 PDT</td>\n",
       "      <td>Lincoln Park, Michigan, United States</td>\n",
       "    </tr>\n",
       "    <tr>\n",
       "      <th>999</th>\n",
       "      <td>Estee Lauder</td>\n",
       "      <td>Beyond Paradise by Estee Lauder for Men Cologn...</td>\n",
       "      <td>Cologne spray</td>\n",
       "      <td>17.49</td>\n",
       "      <td>US $17.49/ea</td>\n",
       "      <td>10.0</td>\n",
       "      <td>More than 10 available / 24 sold</td>\n",
       "      <td>24.0</td>\n",
       "      <td>Feb 28, 2024 07:27:01 PST</td>\n",
       "      <td>Keyport, New Jersey, United States</td>\n",
       "    </tr>\n",
       "  </tbody>\n",
       "</table>\n",
       "<p>1000 rows × 10 columns</p>\n",
       "</div>"
      ],
      "text/plain": [
       "              brand                                              title  \\\n",
       "0              Dior  Christian Dior Sauvage Men's EDP 3.4 oz Fragra...   \n",
       "1           AS SHOW  A-v-entus Eau de Parfum 3.3 oz 100ML Millesime...   \n",
       "2         Unbranded                   HOGO BOSS cologne For Men 3.4 oz   \n",
       "3    Giorgio Armani  Acqua Di Gio by Giorgio Armani 6.7 Fl oz Eau D...   \n",
       "4           Lattafa  Lattafa Men's Hayaati Al Maleky EDP Spray 3.4 ...   \n",
       "..              ...                                                ...   \n",
       "995           GUESS  Guess 1981 by Guess cologne for men EDT 3.3 / ...   \n",
       "996           Armaf  Club de Nuit Intense by Armaf cologne for men ...   \n",
       "997    Paco Rabanne  Invictus by Paco Rabanne for Men EDT Spray 3.4...   \n",
       "998          Lomani  Lomani EDT Cologne 3.4 oz Men - Authentic, Bra...   \n",
       "999    Estee Lauder  Beyond Paradise by Estee Lauder for Men Cologn...   \n",
       "\n",
       "                type   price priceWithCurrency  available  \\\n",
       "0      Eau de Parfum   84.99      US $84.99/ea       10.0   \n",
       "1      Eau de Parfum  109.99        US $109.99        8.0   \n",
       "2    Eau de Toilette  100.00        US $100.00       10.0   \n",
       "3    Eau de Toilette   44.99      US $44.99/ea        2.0   \n",
       "4         Fragrances   16.91         US $16.91        NaN   \n",
       "..               ...     ...               ...        ...   \n",
       "995  Eau de Toilette   20.28      US $20.28/ea       45.0   \n",
       "996  Eau de Toilette   30.58         US $30.58       10.0   \n",
       "997  Eau de Toilette   39.99      US $39.99/ea        2.0   \n",
       "998  Eau de Toilette    9.99       US $9.99/ea        2.0   \n",
       "999    Cologne spray   17.49      US $17.49/ea       10.0   \n",
       "\n",
       "                             availableText    sold                lastUpdated  \\\n",
       "0        More than 10 available / 116 sold   116.0  May 24, 2024 10:03:04 PDT   \n",
       "1                    8 available / 48 sold    48.0  May 23, 2024 23:07:49 PDT   \n",
       "2         More than 10 available / 27 sold    27.0  May 22, 2024 21:55:43 PDT   \n",
       "3                   2 available / 159 sold   159.0  May 24, 2024 03:30:43 PDT   \n",
       "4    Limited quantity available / 156 sold   156.0  May 24, 2024 07:56:25 PDT   \n",
       "..                                     ...     ...                        ...   \n",
       "995              45 available / 1,613 sold  1613.0  May 24, 2024 08:14:07 PDT   \n",
       "996       More than 10 available / 31 sold    31.0  May 23, 2024 08:39:30 PDT   \n",
       "997                 2 available / 305 sold   305.0  May 23, 2024 15:27:18 PDT   \n",
       "998                  2 available / 22 sold    22.0  May 20, 2024 13:20:54 PDT   \n",
       "999       More than 10 available / 24 sold    24.0  Feb 28, 2024 07:27:01 PST   \n",
       "\n",
       "                               itemLocation  \n",
       "0       Allen Park, Michigan, United States  \n",
       "1                  Atlanta, Georgia, Canada  \n",
       "2         Dearborn, Michigan, United States  \n",
       "3    Reinholds, Pennsylvania, United States  \n",
       "4         Brooklyn, New York, United States  \n",
       "..                                      ...  \n",
       "995            Dallas, Texas, United States  \n",
       "996                           United States  \n",
       "997        Jamaica, New York, United States  \n",
       "998   Lincoln Park, Michigan, United States  \n",
       "999      Keyport, New Jersey, United States  \n",
       "\n",
       "[1000 rows x 10 columns]"
      ]
     },
     "execution_count": 3,
     "metadata": {},
     "output_type": "execute_result"
    }
   ],
   "source": [
    "mens_data=pd.read_csv(\"ebay_mens_perfume.csv\")\n",
    "mens_data"
   ]
  },
  {
   "cell_type": "code",
   "execution_count": 4,
   "id": "5355ac81-42ae-4ccd-b30e-31d66da42108",
   "metadata": {},
   "outputs": [
    {
     "data": {
      "text/html": [
       "<div>\n",
       "<style scoped>\n",
       "    .dataframe tbody tr th:only-of-type {\n",
       "        vertical-align: middle;\n",
       "    }\n",
       "\n",
       "    .dataframe tbody tr th {\n",
       "        vertical-align: top;\n",
       "    }\n",
       "\n",
       "    .dataframe thead th {\n",
       "        text-align: right;\n",
       "    }\n",
       "</style>\n",
       "<table border=\"1\" class=\"dataframe\">\n",
       "  <thead>\n",
       "    <tr style=\"text-align: right;\">\n",
       "      <th></th>\n",
       "      <th>brand</th>\n",
       "      <th>title</th>\n",
       "      <th>type</th>\n",
       "      <th>price</th>\n",
       "      <th>priceWithCurrency</th>\n",
       "      <th>available</th>\n",
       "      <th>availableText</th>\n",
       "      <th>sold</th>\n",
       "      <th>lastUpdated</th>\n",
       "      <th>itemLocation</th>\n",
       "    </tr>\n",
       "  </thead>\n",
       "  <tbody>\n",
       "    <tr>\n",
       "      <th>0</th>\n",
       "      <td>Carolina Herrera</td>\n",
       "      <td>Good Girl by Carolina Herrera 2.7 oz Eau De Pa...</td>\n",
       "      <td>Eau de Parfum</td>\n",
       "      <td>43.99</td>\n",
       "      <td>US $43.99/ea</td>\n",
       "      <td>2.0</td>\n",
       "      <td>2 available / 393 sold</td>\n",
       "      <td>393.0</td>\n",
       "      <td>May 23, 2024 10:43:50 PDT</td>\n",
       "      <td>Thomasville, Alabama, United States</td>\n",
       "    </tr>\n",
       "    <tr>\n",
       "      <th>1</th>\n",
       "      <td>As Shown</td>\n",
       "      <td>Parfums de Marly Delina La Rosee Eau de Parfum...</td>\n",
       "      <td>Eau de Parfum</td>\n",
       "      <td>79.99</td>\n",
       "      <td>US $79.99</td>\n",
       "      <td>5.0</td>\n",
       "      <td>5 available / 40 sold</td>\n",
       "      <td>40.0</td>\n",
       "      <td>May 24, 2024 00:15:48 PDT</td>\n",
       "      <td>New Jersey, Hong Kong</td>\n",
       "    </tr>\n",
       "    <tr>\n",
       "      <th>2</th>\n",
       "      <td>PRADA</td>\n",
       "      <td>PRADA Paradoxe by Prada EDP 3.0oz/90ml Spray P...</td>\n",
       "      <td>Eau de Parfum</td>\n",
       "      <td>59.99</td>\n",
       "      <td>US $59.99</td>\n",
       "      <td>10.0</td>\n",
       "      <td>More than 10 available / 35 sold</td>\n",
       "      <td>35.0</td>\n",
       "      <td>May 14, 2024 20:54:25 PDT</td>\n",
       "      <td>Orange, New Jersey, United States</td>\n",
       "    </tr>\n",
       "    <tr>\n",
       "      <th>3</th>\n",
       "      <td>As Show</td>\n",
       "      <td>J'adore Parfum D'eau by Christian 3.4 oz EDP F...</td>\n",
       "      <td>Eau de Parfum</td>\n",
       "      <td>59.99</td>\n",
       "      <td>US $59.99/ea</td>\n",
       "      <td>10.0</td>\n",
       "      <td>More than 10 available / 9 sold</td>\n",
       "      <td>9.0</td>\n",
       "      <td>May 23, 2024 01:23:05 PDT</td>\n",
       "      <td>USA, New Jersey, Hong Kong</td>\n",
       "    </tr>\n",
       "    <tr>\n",
       "      <th>4</th>\n",
       "      <td>Khadlaj</td>\n",
       "      <td>Shiyaaka for Men EDP Spray 100ML (3.4 FL.OZ) B...</td>\n",
       "      <td>Eau de Parfum</td>\n",
       "      <td>29.99</td>\n",
       "      <td>US $29.99/ea</td>\n",
       "      <td>10.0</td>\n",
       "      <td>More than 10 available</td>\n",
       "      <td>NaN</td>\n",
       "      <td>NaN</td>\n",
       "      <td>Little Ferry, New Jersey, United States</td>\n",
       "    </tr>\n",
       "    <tr>\n",
       "      <th>...</th>\n",
       "      <td>...</td>\n",
       "      <td>...</td>\n",
       "      <td>...</td>\n",
       "      <td>...</td>\n",
       "      <td>...</td>\n",
       "      <td>...</td>\n",
       "      <td>...</td>\n",
       "      <td>...</td>\n",
       "      <td>...</td>\n",
       "      <td>...</td>\n",
       "    </tr>\n",
       "    <tr>\n",
       "      <th>995</th>\n",
       "      <td>Avon</td>\n",
       "      <td>Avon Far Away Infinity Eau de Parfum 1.7 fl. o...</td>\n",
       "      <td>Eau de Parfum</td>\n",
       "      <td>13.89</td>\n",
       "      <td>US $13.89</td>\n",
       "      <td>10.0</td>\n",
       "      <td>More than 10 available / 157 sold</td>\n",
       "      <td>157.0</td>\n",
       "      <td>May 16, 2024 22:35:29 PDT</td>\n",
       "      <td>West Palm Beach, Florida, United States</td>\n",
       "    </tr>\n",
       "    <tr>\n",
       "      <th>996</th>\n",
       "      <td>Mancera</td>\n",
       "      <td>Roses Greedy by Mancera perfume for unisex EDP...</td>\n",
       "      <td>Eau de Parfum</td>\n",
       "      <td>57.85</td>\n",
       "      <td>US $57.85/ea</td>\n",
       "      <td>33.0</td>\n",
       "      <td>33 available / 58 sold</td>\n",
       "      <td>58.0</td>\n",
       "      <td>May 24, 2024 08:03:11 PDT</td>\n",
       "      <td>Dallas, Texas, United States</td>\n",
       "    </tr>\n",
       "    <tr>\n",
       "      <th>997</th>\n",
       "      <td>Unbranded</td>\n",
       "      <td>Sweet Tooth Eau de Parfum, Perfume for Women, ...</td>\n",
       "      <td>1</td>\n",
       "      <td>30.96</td>\n",
       "      <td>US $30.96</td>\n",
       "      <td>2.0</td>\n",
       "      <td>2 available / 3 sold</td>\n",
       "      <td>3.0</td>\n",
       "      <td>May 17, 2024 23:16:41 PDT</td>\n",
       "      <td>New York, New York, United States</td>\n",
       "    </tr>\n",
       "    <tr>\n",
       "      <th>998</th>\n",
       "      <td>Juliette Has A Gun</td>\n",
       "      <td>MMMM BY Juliette Has A Gun perfume for her EDP...</td>\n",
       "      <td>Eau de Perfume</td>\n",
       "      <td>53.99</td>\n",
       "      <td>US $53.99/ea</td>\n",
       "      <td>3.0</td>\n",
       "      <td>3 available / 117 sold</td>\n",
       "      <td>117.0</td>\n",
       "      <td>May 13, 2024 22:19:34 PDT</td>\n",
       "      <td>Dallas, Texas, United States</td>\n",
       "    </tr>\n",
       "    <tr>\n",
       "      <th>999</th>\n",
       "      <td>Paris Hilton</td>\n",
       "      <td>PARIS HILTON ELECTRIFY for Women Cologne 3.4 o...</td>\n",
       "      <td>Eau de Parfum</td>\n",
       "      <td>14.99</td>\n",
       "      <td>US $14.99/ea</td>\n",
       "      <td>4.0</td>\n",
       "      <td>4 available / 51 sold</td>\n",
       "      <td>51.0</td>\n",
       "      <td>May 22, 2024 05:44:45 PDT</td>\n",
       "      <td>TX, United States</td>\n",
       "    </tr>\n",
       "  </tbody>\n",
       "</table>\n",
       "<p>1000 rows × 10 columns</p>\n",
       "</div>"
      ],
      "text/plain": [
       "                  brand                                              title  \\\n",
       "0      Carolina Herrera  Good Girl by Carolina Herrera 2.7 oz Eau De Pa...   \n",
       "1              As Shown  Parfums de Marly Delina La Rosee Eau de Parfum...   \n",
       "2                 PRADA  PRADA Paradoxe by Prada EDP 3.0oz/90ml Spray P...   \n",
       "3               As Show  J'adore Parfum D'eau by Christian 3.4 oz EDP F...   \n",
       "4               Khadlaj  Shiyaaka for Men EDP Spray 100ML (3.4 FL.OZ) B...   \n",
       "..                  ...                                                ...   \n",
       "995                Avon  Avon Far Away Infinity Eau de Parfum 1.7 fl. o...   \n",
       "996             Mancera  Roses Greedy by Mancera perfume for unisex EDP...   \n",
       "997           Unbranded  Sweet Tooth Eau de Parfum, Perfume for Women, ...   \n",
       "998  Juliette Has A Gun  MMMM BY Juliette Has A Gun perfume for her EDP...   \n",
       "999        Paris Hilton  PARIS HILTON ELECTRIFY for Women Cologne 3.4 o...   \n",
       "\n",
       "               type  price priceWithCurrency  available  \\\n",
       "0     Eau de Parfum  43.99      US $43.99/ea        2.0   \n",
       "1     Eau de Parfum  79.99         US $79.99        5.0   \n",
       "2     Eau de Parfum  59.99         US $59.99       10.0   \n",
       "3     Eau de Parfum  59.99      US $59.99/ea       10.0   \n",
       "4     Eau de Parfum  29.99      US $29.99/ea       10.0   \n",
       "..              ...    ...               ...        ...   \n",
       "995   Eau de Parfum  13.89         US $13.89       10.0   \n",
       "996   Eau de Parfum  57.85      US $57.85/ea       33.0   \n",
       "997               1  30.96         US $30.96        2.0   \n",
       "998  Eau de Perfume  53.99      US $53.99/ea        3.0   \n",
       "999   Eau de Parfum  14.99      US $14.99/ea        4.0   \n",
       "\n",
       "                         availableText   sold                lastUpdated  \\\n",
       "0               2 available / 393 sold  393.0  May 23, 2024 10:43:50 PDT   \n",
       "1                5 available / 40 sold   40.0  May 24, 2024 00:15:48 PDT   \n",
       "2     More than 10 available / 35 sold   35.0  May 14, 2024 20:54:25 PDT   \n",
       "3      More than 10 available / 9 sold    9.0  May 23, 2024 01:23:05 PDT   \n",
       "4               More than 10 available    NaN                        NaN   \n",
       "..                                 ...    ...                        ...   \n",
       "995  More than 10 available / 157 sold  157.0  May 16, 2024 22:35:29 PDT   \n",
       "996             33 available / 58 sold   58.0  May 24, 2024 08:03:11 PDT   \n",
       "997               2 available / 3 sold    3.0  May 17, 2024 23:16:41 PDT   \n",
       "998             3 available / 117 sold  117.0  May 13, 2024 22:19:34 PDT   \n",
       "999              4 available / 51 sold   51.0  May 22, 2024 05:44:45 PDT   \n",
       "\n",
       "                                itemLocation  \n",
       "0        Thomasville, Alabama, United States  \n",
       "1                      New Jersey, Hong Kong  \n",
       "2          Orange, New Jersey, United States  \n",
       "3                 USA, New Jersey, Hong Kong  \n",
       "4    Little Ferry, New Jersey, United States  \n",
       "..                                       ...  \n",
       "995  West Palm Beach, Florida, United States  \n",
       "996             Dallas, Texas, United States  \n",
       "997        New York, New York, United States  \n",
       "998             Dallas, Texas, United States  \n",
       "999                        TX, United States  \n",
       "\n",
       "[1000 rows x 10 columns]"
      ]
     },
     "execution_count": 4,
     "metadata": {},
     "output_type": "execute_result"
    }
   ],
   "source": [
    "womens_data=pd.read_csv(\"ebay_womens_perfume.csv\")\n",
    "womens_data"
   ]
  },
  {
   "cell_type": "code",
   "execution_count": 45,
   "id": "13d8c759-75d7-4350-be83-674fd94674c8",
   "metadata": {},
   "outputs": [
    {
     "data": {
      "text/html": [
       "<div>\n",
       "<style scoped>\n",
       "    .dataframe tbody tr th:only-of-type {\n",
       "        vertical-align: middle;\n",
       "    }\n",
       "\n",
       "    .dataframe tbody tr th {\n",
       "        vertical-align: top;\n",
       "    }\n",
       "\n",
       "    .dataframe thead th {\n",
       "        text-align: right;\n",
       "    }\n",
       "</style>\n",
       "<table border=\"1\" class=\"dataframe\">\n",
       "  <thead>\n",
       "    <tr style=\"text-align: right;\">\n",
       "      <th></th>\n",
       "      <th>brand</th>\n",
       "      <th>title</th>\n",
       "      <th>type</th>\n",
       "      <th>price</th>\n",
       "      <th>priceWithCurrency</th>\n",
       "      <th>available</th>\n",
       "      <th>availableText</th>\n",
       "      <th>sold</th>\n",
       "      <th>itemLocation</th>\n",
       "      <th>gender</th>\n",
       "    </tr>\n",
       "  </thead>\n",
       "  <tbody>\n",
       "    <tr>\n",
       "      <th>0</th>\n",
       "      <td>Dior</td>\n",
       "      <td>Christian Dior Sauvage Men's EDP 3.4 oz Fragra...</td>\n",
       "      <td>Eau de Parfum</td>\n",
       "      <td>84.99</td>\n",
       "      <td>US $84.99/ea</td>\n",
       "      <td>10.0</td>\n",
       "      <td>More than 10 available / 116 sold</td>\n",
       "      <td>116.0</td>\n",
       "      <td>Allen Park, Michigan, United States</td>\n",
       "      <td>men</td>\n",
       "    </tr>\n",
       "    <tr>\n",
       "      <th>1</th>\n",
       "      <td>AS SHOW</td>\n",
       "      <td>A-v-entus Eau de Parfum 3.3 oz 100ML Millesime...</td>\n",
       "      <td>Eau de Parfum</td>\n",
       "      <td>109.99</td>\n",
       "      <td>US $109.99</td>\n",
       "      <td>8.0</td>\n",
       "      <td>8 available / 48 sold</td>\n",
       "      <td>48.0</td>\n",
       "      <td>Atlanta, Georgia, Canada</td>\n",
       "      <td>men</td>\n",
       "    </tr>\n",
       "    <tr>\n",
       "      <th>2</th>\n",
       "      <td>Unbranded</td>\n",
       "      <td>HOGO BOSS cologne For Men 3.4 oz</td>\n",
       "      <td>Eau de Toilette</td>\n",
       "      <td>100.00</td>\n",
       "      <td>US $100.00</td>\n",
       "      <td>10.0</td>\n",
       "      <td>More than 10 available / 27 sold</td>\n",
       "      <td>27.0</td>\n",
       "      <td>Dearborn, Michigan, United States</td>\n",
       "      <td>men</td>\n",
       "    </tr>\n",
       "    <tr>\n",
       "      <th>3</th>\n",
       "      <td>Giorgio Armani</td>\n",
       "      <td>Acqua Di Gio by Giorgio Armani 6.7 Fl oz Eau D...</td>\n",
       "      <td>Eau de Toilette</td>\n",
       "      <td>44.99</td>\n",
       "      <td>US $44.99/ea</td>\n",
       "      <td>2.0</td>\n",
       "      <td>2 available / 159 sold</td>\n",
       "      <td>159.0</td>\n",
       "      <td>Reinholds, Pennsylvania, United States</td>\n",
       "      <td>men</td>\n",
       "    </tr>\n",
       "    <tr>\n",
       "      <th>4</th>\n",
       "      <td>Lattafa</td>\n",
       "      <td>Lattafa Men's Hayaati Al Maleky EDP Spray 3.4 ...</td>\n",
       "      <td>Fragrances</td>\n",
       "      <td>16.91</td>\n",
       "      <td>US $16.91</td>\n",
       "      <td>0.0</td>\n",
       "      <td>Limited quantity available / 156 sold</td>\n",
       "      <td>156.0</td>\n",
       "      <td>Brooklyn, New York, United States</td>\n",
       "      <td>men</td>\n",
       "    </tr>\n",
       "    <tr>\n",
       "      <th>...</th>\n",
       "      <td>...</td>\n",
       "      <td>...</td>\n",
       "      <td>...</td>\n",
       "      <td>...</td>\n",
       "      <td>...</td>\n",
       "      <td>...</td>\n",
       "      <td>...</td>\n",
       "      <td>...</td>\n",
       "      <td>...</td>\n",
       "      <td>...</td>\n",
       "    </tr>\n",
       "    <tr>\n",
       "      <th>1995</th>\n",
       "      <td>Avon</td>\n",
       "      <td>Avon Far Away Infinity Eau de Parfum 1.7 fl. o...</td>\n",
       "      <td>Eau de Parfum</td>\n",
       "      <td>13.89</td>\n",
       "      <td>US $13.89</td>\n",
       "      <td>10.0</td>\n",
       "      <td>More than 10 available / 157 sold</td>\n",
       "      <td>157.0</td>\n",
       "      <td>West Palm Beach, Florida, United States</td>\n",
       "      <td>women</td>\n",
       "    </tr>\n",
       "    <tr>\n",
       "      <th>1996</th>\n",
       "      <td>Mancera</td>\n",
       "      <td>Roses Greedy by Mancera perfume for unisex EDP...</td>\n",
       "      <td>Eau de Parfum</td>\n",
       "      <td>57.85</td>\n",
       "      <td>US $57.85/ea</td>\n",
       "      <td>33.0</td>\n",
       "      <td>33 available / 58 sold</td>\n",
       "      <td>58.0</td>\n",
       "      <td>Dallas, Texas, United States</td>\n",
       "      <td>women</td>\n",
       "    </tr>\n",
       "    <tr>\n",
       "      <th>1997</th>\n",
       "      <td>Unbranded</td>\n",
       "      <td>Sweet Tooth Eau de Parfum, Perfume for Women, ...</td>\n",
       "      <td>1</td>\n",
       "      <td>30.96</td>\n",
       "      <td>US $30.96</td>\n",
       "      <td>2.0</td>\n",
       "      <td>2 available / 3 sold</td>\n",
       "      <td>3.0</td>\n",
       "      <td>New York, New York, United States</td>\n",
       "      <td>women</td>\n",
       "    </tr>\n",
       "    <tr>\n",
       "      <th>1998</th>\n",
       "      <td>Juliette Has A Gun</td>\n",
       "      <td>MMMM BY Juliette Has A Gun perfume for her EDP...</td>\n",
       "      <td>Eau de Perfume</td>\n",
       "      <td>53.99</td>\n",
       "      <td>US $53.99/ea</td>\n",
       "      <td>3.0</td>\n",
       "      <td>3 available / 117 sold</td>\n",
       "      <td>117.0</td>\n",
       "      <td>Dallas, Texas, United States</td>\n",
       "      <td>women</td>\n",
       "    </tr>\n",
       "    <tr>\n",
       "      <th>1999</th>\n",
       "      <td>Paris Hilton</td>\n",
       "      <td>PARIS HILTON ELECTRIFY for Women Cologne 3.4 o...</td>\n",
       "      <td>Eau de Parfum</td>\n",
       "      <td>14.99</td>\n",
       "      <td>US $14.99/ea</td>\n",
       "      <td>4.0</td>\n",
       "      <td>4 available / 51 sold</td>\n",
       "      <td>51.0</td>\n",
       "      <td>TX, United States</td>\n",
       "      <td>women</td>\n",
       "    </tr>\n",
       "  </tbody>\n",
       "</table>\n",
       "<p>2000 rows × 10 columns</p>\n",
       "</div>"
      ],
      "text/plain": [
       "                   brand                                              title  \\\n",
       "0                   Dior  Christian Dior Sauvage Men's EDP 3.4 oz Fragra...   \n",
       "1                AS SHOW  A-v-entus Eau de Parfum 3.3 oz 100ML Millesime...   \n",
       "2              Unbranded                   HOGO BOSS cologne For Men 3.4 oz   \n",
       "3         Giorgio Armani  Acqua Di Gio by Giorgio Armani 6.7 Fl oz Eau D...   \n",
       "4                Lattafa  Lattafa Men's Hayaati Al Maleky EDP Spray 3.4 ...   \n",
       "...                  ...                                                ...   \n",
       "1995                Avon  Avon Far Away Infinity Eau de Parfum 1.7 fl. o...   \n",
       "1996             Mancera  Roses Greedy by Mancera perfume for unisex EDP...   \n",
       "1997           Unbranded  Sweet Tooth Eau de Parfum, Perfume for Women, ...   \n",
       "1998  Juliette Has A Gun  MMMM BY Juliette Has A Gun perfume for her EDP...   \n",
       "1999        Paris Hilton  PARIS HILTON ELECTRIFY for Women Cologne 3.4 o...   \n",
       "\n",
       "                 type   price priceWithCurrency  available  \\\n",
       "0       Eau de Parfum   84.99      US $84.99/ea       10.0   \n",
       "1       Eau de Parfum  109.99        US $109.99        8.0   \n",
       "2     Eau de Toilette  100.00        US $100.00       10.0   \n",
       "3     Eau de Toilette   44.99      US $44.99/ea        2.0   \n",
       "4          Fragrances   16.91         US $16.91        0.0   \n",
       "...               ...     ...               ...        ...   \n",
       "1995    Eau de Parfum   13.89         US $13.89       10.0   \n",
       "1996    Eau de Parfum   57.85      US $57.85/ea       33.0   \n",
       "1997                1   30.96         US $30.96        2.0   \n",
       "1998   Eau de Perfume   53.99      US $53.99/ea        3.0   \n",
       "1999    Eau de Parfum   14.99      US $14.99/ea        4.0   \n",
       "\n",
       "                              availableText   sold  \\\n",
       "0         More than 10 available / 116 sold  116.0   \n",
       "1                     8 available / 48 sold   48.0   \n",
       "2          More than 10 available / 27 sold   27.0   \n",
       "3                    2 available / 159 sold  159.0   \n",
       "4     Limited quantity available / 156 sold  156.0   \n",
       "...                                     ...    ...   \n",
       "1995      More than 10 available / 157 sold  157.0   \n",
       "1996                 33 available / 58 sold   58.0   \n",
       "1997                   2 available / 3 sold    3.0   \n",
       "1998                 3 available / 117 sold  117.0   \n",
       "1999                  4 available / 51 sold   51.0   \n",
       "\n",
       "                                 itemLocation gender  \n",
       "0         Allen Park, Michigan, United States    men  \n",
       "1                    Atlanta, Georgia, Canada    men  \n",
       "2           Dearborn, Michigan, United States    men  \n",
       "3      Reinholds, Pennsylvania, United States    men  \n",
       "4           Brooklyn, New York, United States    men  \n",
       "...                                       ...    ...  \n",
       "1995  West Palm Beach, Florida, United States  women  \n",
       "1996             Dallas, Texas, United States  women  \n",
       "1997        New York, New York, United States  women  \n",
       "1998             Dallas, Texas, United States  women  \n",
       "1999                        TX, United States  women  \n",
       "\n",
       "[2000 rows x 10 columns]"
      ]
     },
     "execution_count": 45,
     "metadata": {},
     "output_type": "execute_result"
    }
   ],
   "source": [
    "perfumes = perfumes.drop(\"lastUpdated\",axis = 1)\n",
    "perfumes"
   ]
  },
  {
   "cell_type": "markdown",
   "id": "cad1767c-a6d6-4699-b908-74717e364996",
   "metadata": {},
   "source": [
    "## Combine the datasets for a comprehensive analysis"
   ]
  },
  {
   "cell_type": "code",
   "execution_count": 5,
   "id": "c699e8e3-2e55-4bb1-82c2-db65a37e4c36",
   "metadata": {},
   "outputs": [],
   "source": [
    "# add gender column\n",
    "# Combine the datasets for a comprehensive analysis\n",
    "mens_data['gender'] = 'men'\n",
    "womens_data['gender'] = 'women'"
   ]
  },
  {
   "cell_type": "code",
   "execution_count": 6,
   "id": "c84e97bd-e7f6-4031-8143-805c46e2fc5f",
   "metadata": {},
   "outputs": [
    {
     "data": {
      "text/html": [
       "<div>\n",
       "<style scoped>\n",
       "    .dataframe tbody tr th:only-of-type {\n",
       "        vertical-align: middle;\n",
       "    }\n",
       "\n",
       "    .dataframe tbody tr th {\n",
       "        vertical-align: top;\n",
       "    }\n",
       "\n",
       "    .dataframe thead th {\n",
       "        text-align: right;\n",
       "    }\n",
       "</style>\n",
       "<table border=\"1\" class=\"dataframe\">\n",
       "  <thead>\n",
       "    <tr style=\"text-align: right;\">\n",
       "      <th></th>\n",
       "      <th>brand</th>\n",
       "      <th>title</th>\n",
       "      <th>type</th>\n",
       "      <th>price</th>\n",
       "      <th>priceWithCurrency</th>\n",
       "      <th>available</th>\n",
       "      <th>availableText</th>\n",
       "      <th>sold</th>\n",
       "      <th>lastUpdated</th>\n",
       "      <th>itemLocation</th>\n",
       "      <th>gender</th>\n",
       "    </tr>\n",
       "  </thead>\n",
       "  <tbody>\n",
       "    <tr>\n",
       "      <th>0</th>\n",
       "      <td>Dior</td>\n",
       "      <td>Christian Dior Sauvage Men's EDP 3.4 oz Fragra...</td>\n",
       "      <td>Eau de Parfum</td>\n",
       "      <td>84.99</td>\n",
       "      <td>US $84.99/ea</td>\n",
       "      <td>10.0</td>\n",
       "      <td>More than 10 available / 116 sold</td>\n",
       "      <td>116.0</td>\n",
       "      <td>May 24, 2024 10:03:04 PDT</td>\n",
       "      <td>Allen Park, Michigan, United States</td>\n",
       "      <td>men</td>\n",
       "    </tr>\n",
       "    <tr>\n",
       "      <th>1</th>\n",
       "      <td>AS SHOW</td>\n",
       "      <td>A-v-entus Eau de Parfum 3.3 oz 100ML Millesime...</td>\n",
       "      <td>Eau de Parfum</td>\n",
       "      <td>109.99</td>\n",
       "      <td>US $109.99</td>\n",
       "      <td>8.0</td>\n",
       "      <td>8 available / 48 sold</td>\n",
       "      <td>48.0</td>\n",
       "      <td>May 23, 2024 23:07:49 PDT</td>\n",
       "      <td>Atlanta, Georgia, Canada</td>\n",
       "      <td>men</td>\n",
       "    </tr>\n",
       "    <tr>\n",
       "      <th>2</th>\n",
       "      <td>Unbranded</td>\n",
       "      <td>HOGO BOSS cologne For Men 3.4 oz</td>\n",
       "      <td>Eau de Toilette</td>\n",
       "      <td>100.00</td>\n",
       "      <td>US $100.00</td>\n",
       "      <td>10.0</td>\n",
       "      <td>More than 10 available / 27 sold</td>\n",
       "      <td>27.0</td>\n",
       "      <td>May 22, 2024 21:55:43 PDT</td>\n",
       "      <td>Dearborn, Michigan, United States</td>\n",
       "      <td>men</td>\n",
       "    </tr>\n",
       "    <tr>\n",
       "      <th>3</th>\n",
       "      <td>Giorgio Armani</td>\n",
       "      <td>Acqua Di Gio by Giorgio Armani 6.7 Fl oz Eau D...</td>\n",
       "      <td>Eau de Toilette</td>\n",
       "      <td>44.99</td>\n",
       "      <td>US $44.99/ea</td>\n",
       "      <td>2.0</td>\n",
       "      <td>2 available / 159 sold</td>\n",
       "      <td>159.0</td>\n",
       "      <td>May 24, 2024 03:30:43 PDT</td>\n",
       "      <td>Reinholds, Pennsylvania, United States</td>\n",
       "      <td>men</td>\n",
       "    </tr>\n",
       "    <tr>\n",
       "      <th>4</th>\n",
       "      <td>Lattafa</td>\n",
       "      <td>Lattafa Men's Hayaati Al Maleky EDP Spray 3.4 ...</td>\n",
       "      <td>Fragrances</td>\n",
       "      <td>16.91</td>\n",
       "      <td>US $16.91</td>\n",
       "      <td>NaN</td>\n",
       "      <td>Limited quantity available / 156 sold</td>\n",
       "      <td>156.0</td>\n",
       "      <td>May 24, 2024 07:56:25 PDT</td>\n",
       "      <td>Brooklyn, New York, United States</td>\n",
       "      <td>men</td>\n",
       "    </tr>\n",
       "    <tr>\n",
       "      <th>...</th>\n",
       "      <td>...</td>\n",
       "      <td>...</td>\n",
       "      <td>...</td>\n",
       "      <td>...</td>\n",
       "      <td>...</td>\n",
       "      <td>...</td>\n",
       "      <td>...</td>\n",
       "      <td>...</td>\n",
       "      <td>...</td>\n",
       "      <td>...</td>\n",
       "      <td>...</td>\n",
       "    </tr>\n",
       "    <tr>\n",
       "      <th>1995</th>\n",
       "      <td>Avon</td>\n",
       "      <td>Avon Far Away Infinity Eau de Parfum 1.7 fl. o...</td>\n",
       "      <td>Eau de Parfum</td>\n",
       "      <td>13.89</td>\n",
       "      <td>US $13.89</td>\n",
       "      <td>10.0</td>\n",
       "      <td>More than 10 available / 157 sold</td>\n",
       "      <td>157.0</td>\n",
       "      <td>May 16, 2024 22:35:29 PDT</td>\n",
       "      <td>West Palm Beach, Florida, United States</td>\n",
       "      <td>women</td>\n",
       "    </tr>\n",
       "    <tr>\n",
       "      <th>1996</th>\n",
       "      <td>Mancera</td>\n",
       "      <td>Roses Greedy by Mancera perfume for unisex EDP...</td>\n",
       "      <td>Eau de Parfum</td>\n",
       "      <td>57.85</td>\n",
       "      <td>US $57.85/ea</td>\n",
       "      <td>33.0</td>\n",
       "      <td>33 available / 58 sold</td>\n",
       "      <td>58.0</td>\n",
       "      <td>May 24, 2024 08:03:11 PDT</td>\n",
       "      <td>Dallas, Texas, United States</td>\n",
       "      <td>women</td>\n",
       "    </tr>\n",
       "    <tr>\n",
       "      <th>1997</th>\n",
       "      <td>Unbranded</td>\n",
       "      <td>Sweet Tooth Eau de Parfum, Perfume for Women, ...</td>\n",
       "      <td>1</td>\n",
       "      <td>30.96</td>\n",
       "      <td>US $30.96</td>\n",
       "      <td>2.0</td>\n",
       "      <td>2 available / 3 sold</td>\n",
       "      <td>3.0</td>\n",
       "      <td>May 17, 2024 23:16:41 PDT</td>\n",
       "      <td>New York, New York, United States</td>\n",
       "      <td>women</td>\n",
       "    </tr>\n",
       "    <tr>\n",
       "      <th>1998</th>\n",
       "      <td>Juliette Has A Gun</td>\n",
       "      <td>MMMM BY Juliette Has A Gun perfume for her EDP...</td>\n",
       "      <td>Eau de Perfume</td>\n",
       "      <td>53.99</td>\n",
       "      <td>US $53.99/ea</td>\n",
       "      <td>3.0</td>\n",
       "      <td>3 available / 117 sold</td>\n",
       "      <td>117.0</td>\n",
       "      <td>May 13, 2024 22:19:34 PDT</td>\n",
       "      <td>Dallas, Texas, United States</td>\n",
       "      <td>women</td>\n",
       "    </tr>\n",
       "    <tr>\n",
       "      <th>1999</th>\n",
       "      <td>Paris Hilton</td>\n",
       "      <td>PARIS HILTON ELECTRIFY for Women Cologne 3.4 o...</td>\n",
       "      <td>Eau de Parfum</td>\n",
       "      <td>14.99</td>\n",
       "      <td>US $14.99/ea</td>\n",
       "      <td>4.0</td>\n",
       "      <td>4 available / 51 sold</td>\n",
       "      <td>51.0</td>\n",
       "      <td>May 22, 2024 05:44:45 PDT</td>\n",
       "      <td>TX, United States</td>\n",
       "      <td>women</td>\n",
       "    </tr>\n",
       "  </tbody>\n",
       "</table>\n",
       "<p>2000 rows × 11 columns</p>\n",
       "</div>"
      ],
      "text/plain": [
       "                   brand                                              title  \\\n",
       "0                   Dior  Christian Dior Sauvage Men's EDP 3.4 oz Fragra...   \n",
       "1                AS SHOW  A-v-entus Eau de Parfum 3.3 oz 100ML Millesime...   \n",
       "2              Unbranded                   HOGO BOSS cologne For Men 3.4 oz   \n",
       "3         Giorgio Armani  Acqua Di Gio by Giorgio Armani 6.7 Fl oz Eau D...   \n",
       "4                Lattafa  Lattafa Men's Hayaati Al Maleky EDP Spray 3.4 ...   \n",
       "...                  ...                                                ...   \n",
       "1995                Avon  Avon Far Away Infinity Eau de Parfum 1.7 fl. o...   \n",
       "1996             Mancera  Roses Greedy by Mancera perfume for unisex EDP...   \n",
       "1997           Unbranded  Sweet Tooth Eau de Parfum, Perfume for Women, ...   \n",
       "1998  Juliette Has A Gun  MMMM BY Juliette Has A Gun perfume for her EDP...   \n",
       "1999        Paris Hilton  PARIS HILTON ELECTRIFY for Women Cologne 3.4 o...   \n",
       "\n",
       "                 type   price priceWithCurrency  available  \\\n",
       "0       Eau de Parfum   84.99      US $84.99/ea       10.0   \n",
       "1       Eau de Parfum  109.99        US $109.99        8.0   \n",
       "2     Eau de Toilette  100.00        US $100.00       10.0   \n",
       "3     Eau de Toilette   44.99      US $44.99/ea        2.0   \n",
       "4          Fragrances   16.91         US $16.91        NaN   \n",
       "...               ...     ...               ...        ...   \n",
       "1995    Eau de Parfum   13.89         US $13.89       10.0   \n",
       "1996    Eau de Parfum   57.85      US $57.85/ea       33.0   \n",
       "1997                1   30.96         US $30.96        2.0   \n",
       "1998   Eau de Perfume   53.99      US $53.99/ea        3.0   \n",
       "1999    Eau de Parfum   14.99      US $14.99/ea        4.0   \n",
       "\n",
       "                              availableText   sold                lastUpdated  \\\n",
       "0         More than 10 available / 116 sold  116.0  May 24, 2024 10:03:04 PDT   \n",
       "1                     8 available / 48 sold   48.0  May 23, 2024 23:07:49 PDT   \n",
       "2          More than 10 available / 27 sold   27.0  May 22, 2024 21:55:43 PDT   \n",
       "3                    2 available / 159 sold  159.0  May 24, 2024 03:30:43 PDT   \n",
       "4     Limited quantity available / 156 sold  156.0  May 24, 2024 07:56:25 PDT   \n",
       "...                                     ...    ...                        ...   \n",
       "1995      More than 10 available / 157 sold  157.0  May 16, 2024 22:35:29 PDT   \n",
       "1996                 33 available / 58 sold   58.0  May 24, 2024 08:03:11 PDT   \n",
       "1997                   2 available / 3 sold    3.0  May 17, 2024 23:16:41 PDT   \n",
       "1998                 3 available / 117 sold  117.0  May 13, 2024 22:19:34 PDT   \n",
       "1999                  4 available / 51 sold   51.0  May 22, 2024 05:44:45 PDT   \n",
       "\n",
       "                                 itemLocation gender  \n",
       "0         Allen Park, Michigan, United States    men  \n",
       "1                    Atlanta, Georgia, Canada    men  \n",
       "2           Dearborn, Michigan, United States    men  \n",
       "3      Reinholds, Pennsylvania, United States    men  \n",
       "4           Brooklyn, New York, United States    men  \n",
       "...                                       ...    ...  \n",
       "1995  West Palm Beach, Florida, United States  women  \n",
       "1996             Dallas, Texas, United States  women  \n",
       "1997        New York, New York, United States  women  \n",
       "1998             Dallas, Texas, United States  women  \n",
       "1999                        TX, United States  women  \n",
       "\n",
       "[2000 rows x 11 columns]"
      ]
     },
     "execution_count": 6,
     "metadata": {},
     "output_type": "execute_result"
    }
   ],
   "source": [
    "perfumes = pd.concat([mens_data, womens_data], ignore_index=True)\n",
    "perfumes"
   ]
  },
  {
   "cell_type": "markdown",
   "id": "a97b1c73-7c6a-4403-bdba-33f54e413c83",
   "metadata": {},
   "source": [
    "# Column description"
   ]
  },
  {
   "cell_type": "markdown",
   "id": "7686b322-49f1-464b-ba4c-93ee8b307e1b",
   "metadata": {},
   "source": [
    "- brand: The brand of the perfume.\n",
    "- title: The title of the listing.\n",
    "- type: The type of perfume (e.g., Eau de Parfum, Eau de Toilette).\n",
    "- price: The price of the perfume.\n",
    "- priceWithCurrency: The price with currency notation.\n",
    "- available: The number of items available.\n",
    "- availableText: Text description of availability.\n",
    "- sold: The number of items sold.\n",
    "- lastUpdated: The last updated timestamp of the listing.\n",
    "- itemLocation: The location of the item."
   ]
  },
  {
   "cell_type": "markdown",
   "id": "83f47540-1502-44c2-8652-0dafc98c466c",
   "metadata": {},
   "source": [
    "## SHAPE OF DATASET"
   ]
  },
  {
   "cell_type": "code",
   "execution_count": 7,
   "id": "b16dc2bb-c035-4b6a-8a2b-4ee41baf663d",
   "metadata": {},
   "outputs": [
    {
     "data": {
      "text/plain": [
       "(2000, 11)"
      ]
     },
     "execution_count": 7,
     "metadata": {},
     "output_type": "execute_result"
    }
   ],
   "source": [
    "perfumes.shape"
   ]
  },
  {
   "cell_type": "markdown",
   "id": "812f3068-91ec-4d4f-b58c-0e72f784937c",
   "metadata": {},
   "source": [
    "## CHECK MISSING VALUES"
   ]
  },
  {
   "cell_type": "code",
   "execution_count": 8,
   "id": "b4f8f34b-c353-4e67-bf9c-8f7f37974a41",
   "metadata": {},
   "outputs": [
    {
     "data": {
      "text/plain": [
       "brand                  2\n",
       "title                  0\n",
       "type                   5\n",
       "price                  0\n",
       "priceWithCurrency      0\n",
       "available            242\n",
       "availableText         11\n",
       "sold                  22\n",
       "lastUpdated          126\n",
       "itemLocation           0\n",
       "gender                 0\n",
       "dtype: int64"
      ]
     },
     "execution_count": 8,
     "metadata": {},
     "output_type": "execute_result"
    }
   ],
   "source": [
    "perfumes.isnull().sum()"
   ]
  },
  {
   "cell_type": "markdown",
   "id": "f0c33f36-5c62-40ff-99d8-0cc90f4bb889",
   "metadata": {},
   "source": [
    "## HANDLE MISSING VALUES"
   ]
  },
  {
   "cell_type": "code",
   "execution_count": 9,
   "id": "72aff7af-9289-450a-8e8d-7c11c9caf4fd",
   "metadata": {},
   "outputs": [],
   "source": [
    "perfumes = perfumes.fillna({\n",
    "    'brand': 'Unknown',\n",
    "    'type': 'Unknown',\n",
    "    'available': 0,\n",
    "    'availableText': 'Not available',\n",
    "    'sold': 0,\n",
    "    'lastUpdated': 'Unknown'\n",
    "})"
   ]
  },
  {
   "cell_type": "code",
   "execution_count": 10,
   "id": "8d2fbf28-6f6a-4a66-8779-74522b6610e8",
   "metadata": {},
   "outputs": [
    {
     "data": {
      "text/plain": [
       "brand                0\n",
       "title                0\n",
       "type                 0\n",
       "price                0\n",
       "priceWithCurrency    0\n",
       "available            0\n",
       "availableText        0\n",
       "sold                 0\n",
       "lastUpdated          0\n",
       "itemLocation         0\n",
       "gender               0\n",
       "dtype: int64"
      ]
     },
     "execution_count": 10,
     "metadata": {},
     "output_type": "execute_result"
    }
   ],
   "source": [
    "perfumes.isnull().sum()"
   ]
  },
  {
   "cell_type": "code",
   "execution_count": 11,
   "id": "a730df39-e034-45da-b254-085a953112e3",
   "metadata": {},
   "outputs": [
    {
     "data": {
      "text/plain": [
       "brand                 object\n",
       "title                 object\n",
       "type                  object\n",
       "price                float64\n",
       "priceWithCurrency     object\n",
       "available            float64\n",
       "availableText         object\n",
       "sold                 float64\n",
       "lastUpdated           object\n",
       "itemLocation          object\n",
       "gender                object\n",
       "dtype: object"
      ]
     },
     "execution_count": 11,
     "metadata": {},
     "output_type": "execute_result"
    }
   ],
   "source": [
    "perfumes.dtypes"
   ]
  },
  {
   "cell_type": "markdown",
   "id": "8b1e4185-0bb3-4db2-a41e-1d97802f63ee",
   "metadata": {},
   "source": [
    "## INFORMATION OF DATASET"
   ]
  },
  {
   "cell_type": "code",
   "execution_count": 12,
   "id": "6bbb8193-86e2-45d7-9efb-39e7696757d9",
   "metadata": {},
   "outputs": [
    {
     "name": "stdout",
     "output_type": "stream",
     "text": [
      "<class 'pandas.core.frame.DataFrame'>\n",
      "RangeIndex: 2000 entries, 0 to 1999\n",
      "Data columns (total 11 columns):\n",
      " #   Column             Non-Null Count  Dtype  \n",
      "---  ------             --------------  -----  \n",
      " 0   brand              2000 non-null   object \n",
      " 1   title              2000 non-null   object \n",
      " 2   type               2000 non-null   object \n",
      " 3   price              2000 non-null   float64\n",
      " 4   priceWithCurrency  2000 non-null   object \n",
      " 5   available          2000 non-null   float64\n",
      " 6   availableText      2000 non-null   object \n",
      " 7   sold               2000 non-null   float64\n",
      " 8   lastUpdated        2000 non-null   object \n",
      " 9   itemLocation       2000 non-null   object \n",
      " 10  gender             2000 non-null   object \n",
      "dtypes: float64(3), object(8)\n",
      "memory usage: 172.0+ KB\n"
     ]
    }
   ],
   "source": [
    "perfumes.info()"
   ]
  },
  {
   "cell_type": "markdown",
   "id": "4509fef3-5629-490b-a6aa-07cbd944c3e8",
   "metadata": {},
   "source": [
    "## DESCRIBE THE DATASET"
   ]
  },
  {
   "cell_type": "code",
   "execution_count": 13,
   "id": "9b7a202c-8b21-41d2-a83a-7ddff51f9883",
   "metadata": {},
   "outputs": [
    {
     "data": {
      "text/html": [
       "<div>\n",
       "<style scoped>\n",
       "    .dataframe tbody tr th:only-of-type {\n",
       "        vertical-align: middle;\n",
       "    }\n",
       "\n",
       "    .dataframe tbody tr th {\n",
       "        vertical-align: top;\n",
       "    }\n",
       "\n",
       "    .dataframe thead th {\n",
       "        text-align: right;\n",
       "    }\n",
       "</style>\n",
       "<table border=\"1\" class=\"dataframe\">\n",
       "  <thead>\n",
       "    <tr style=\"text-align: right;\">\n",
       "      <th></th>\n",
       "      <th>price</th>\n",
       "      <th>available</th>\n",
       "      <th>sold</th>\n",
       "    </tr>\n",
       "  </thead>\n",
       "  <tbody>\n",
       "    <tr>\n",
       "      <th>count</th>\n",
       "      <td>2000.000000</td>\n",
       "      <td>2000.000000</td>\n",
       "      <td>2000.000000</td>\n",
       "    </tr>\n",
       "    <tr>\n",
       "      <th>mean</th>\n",
       "      <td>43.187090</td>\n",
       "      <td>18.220500</td>\n",
       "      <td>625.516500</td>\n",
       "    </tr>\n",
       "    <tr>\n",
       "      <th>std</th>\n",
       "      <td>32.619625</td>\n",
       "      <td>53.661296</td>\n",
       "      <td>2457.312207</td>\n",
       "    </tr>\n",
       "    <tr>\n",
       "      <th>min</th>\n",
       "      <td>1.990000</td>\n",
       "      <td>0.000000</td>\n",
       "      <td>0.000000</td>\n",
       "    </tr>\n",
       "    <tr>\n",
       "      <th>25%</th>\n",
       "      <td>21.972500</td>\n",
       "      <td>3.000000</td>\n",
       "      <td>14.000000</td>\n",
       "    </tr>\n",
       "    <tr>\n",
       "      <th>50%</th>\n",
       "      <td>34.040000</td>\n",
       "      <td>9.000000</td>\n",
       "      <td>49.000000</td>\n",
       "    </tr>\n",
       "    <tr>\n",
       "      <th>75%</th>\n",
       "      <td>53.990000</td>\n",
       "      <td>10.000000</td>\n",
       "      <td>278.250000</td>\n",
       "    </tr>\n",
       "    <tr>\n",
       "      <th>max</th>\n",
       "      <td>299.990000</td>\n",
       "      <td>842.000000</td>\n",
       "      <td>54052.000000</td>\n",
       "    </tr>\n",
       "  </tbody>\n",
       "</table>\n",
       "</div>"
      ],
      "text/plain": [
       "             price    available          sold\n",
       "count  2000.000000  2000.000000   2000.000000\n",
       "mean     43.187090    18.220500    625.516500\n",
       "std      32.619625    53.661296   2457.312207\n",
       "min       1.990000     0.000000      0.000000\n",
       "25%      21.972500     3.000000     14.000000\n",
       "50%      34.040000     9.000000     49.000000\n",
       "75%      53.990000    10.000000    278.250000\n",
       "max     299.990000   842.000000  54052.000000"
      ]
     },
     "execution_count": 13,
     "metadata": {},
     "output_type": "execute_result"
    }
   ],
   "source": [
    "perfumes.describe()"
   ]
  },
  {
   "cell_type": "markdown",
   "id": "a4448e16-3870-4019-b7d2-e9531e66c8b1",
   "metadata": {},
   "source": [
    "## Brand Distribution\n",
    "- Understanding which brands are most common can give insight into market presence and popularity"
   ]
  },
  {
   "cell_type": "code",
   "execution_count": 14,
   "id": "81b8fa56-d1a6-4a93-af22-a32e5b2d4121",
   "metadata": {},
   "outputs": [
    {
     "name": "stdout",
     "output_type": "stream",
     "text": [
      "brand\n",
      "Giorgio Armani        72\n",
      "Dolce&Gabbana         62\n",
      "Yves Saint Laurent    55\n",
      "Versace               53\n",
      "Unbranded             50\n",
      "                      ..\n",
      "MONT BLANC LEGEND      1\n",
      "Coty Inc.              1\n",
      "REYANE TRADITION       1\n",
      "Classic Brands         1\n",
      "Juliette Has A Gun     1\n",
      "Name: count, Length: 402, dtype: int64\n"
     ]
    }
   ],
   "source": [
    "brand_counts = perfumes['brand'].value_counts()\n",
    "print(brand_counts)"
   ]
  },
  {
   "cell_type": "markdown",
   "id": "2315f518-cb16-4117-839c-fd5c001cff3c",
   "metadata": {},
   "source": [
    "# Visualize the Data"
   ]
  },
  {
   "cell_type": "markdown",
   "id": "bab2a446-e8e7-4c6c-986e-467c03d360f8",
   "metadata": {},
   "source": [
    "## 1. Distribution of prices"
   ]
  },
  {
   "cell_type": "code",
   "execution_count": 15,
   "id": "11c4689a-cac4-45b3-ae7a-e7875ec90ff6",
   "metadata": {},
   "outputs": [
    {
     "name": "stderr",
     "output_type": "stream",
     "text": [
      "C:\\Users\\Admin\\anaconda3\\Lib\\site-packages\\seaborn\\_oldcore.py:1119: FutureWarning: use_inf_as_na option is deprecated and will be removed in a future version. Convert inf values to NaN before operating instead.\n",
      "  with pd.option_context('mode.use_inf_as_na', True):\n"
     ]
    },
    {
     "data": {
      "image/png": "[encoded data removed]",
      "text/plain": [
       "<Figure size 1200x600 with 1 Axes>"
      ]
     },
     "metadata": {},
     "output_type": "display_data"
    },
    {
     "name": "stdout",
     "output_type": "stream",
     "text": [
      "Average Price: $43.19\n",
      "Max Price: $299.99\n",
      "Min Price: $1.99\n"
     ]
    }
   ],
   "source": [
    "# Distribution of prices\n",
    "plt.figure(figsize=(12, 6))\n",
    "sns.histplot(perfumes['price'], bins=50,kde=True)\n",
    "plt.title('Distribution of Perfume Prices')\n",
    "plt.xlabel('Price')\n",
    "plt.ylabel('Frequency')\n",
    "plt.show()\n",
    "\n",
    "average_price = perfumes['price'].mean()\n",
    "max_price = perfumes['price'].max()\n",
    "min_price = perfumes['price'].min()\n",
    "\n",
    "print(f\"Average Price: ${average_price:.2f}\")\n",
    "print(f\"Max Price: ${max_price:.2f}\")\n",
    "print(f\"Min Price: ${min_price:.2f}\")"
   ]
  },
  {
   "cell_type": "markdown",
   "id": "793f0e09-b439-4ee1-928a-fba69fdc82da",
   "metadata": {},
   "source": [
    "- The rise of frequency inthe range of 0 to 50\n",
    "- we can conclude that the rise of prices leads to low sales"
   ]
  },
  {
   "cell_type": "markdown",
   "id": "46b0a0ab-d805-4f5b-99f5-d226eb9160c7",
   "metadata": {},
   "source": [
    "## 2.Sales trends"
   ]
  },
  {
   "cell_type": "code",
   "execution_count": 114,
   "id": "06c78027-336f-4a26-9ed6-e76f9912f42a",
   "metadata": {},
   "outputs": [
    {
     "name": "stderr",
     "output_type": "stream",
     "text": [
      "C:\\Users\\Admin\\anaconda3\\Lib\\site-packages\\seaborn\\_oldcore.py:1119: FutureWarning: use_inf_as_na option is deprecated and will be removed in a future version. Convert inf values to NaN before operating instead.\n",
      "  with pd.option_context('mode.use_inf_as_na', True):\n"
     ]
    },
    {
     "data": {
      "image/png": "[encoded data removed]",
      "text/plain": [
       "<Figure size 1200x600 with 1 Axes>"
      ]
     },
     "metadata": {},
     "output_type": "display_data"
    }
   ],
   "source": [
    "# Sales trends\n",
    "plt.figure(figsize=(12, 6))\n",
    "sns.histplot(perfumes['sold'], bins=50, kde=True)\n",
    "plt.title('Distribution of Items Sold')\n",
    "plt.xlabel('Items Sold')\n",
    "plt.ylabel('Frequency')\n",
    "plt.show()"
   ]
  },
  {
   "cell_type": "markdown",
   "id": "26a7e5de-a62f-4d1f-9159-223cf9acb537",
   "metadata": {},
   "source": [
    "- The frequency of the items sold reached the top record, but drastically comes down quickly \n",
    "- The entire items sold range below 10000"
   ]
  },
  {
   "cell_type": "markdown",
   "id": "aa221ec2-3e84-4ada-9251-f7f89cc98e0f",
   "metadata": {},
   "source": [
    "## 3.Brand popularity"
   ]
  },
  {
   "cell_type": "code",
   "execution_count": 115,
   "id": "4c66da32-36a9-4392-8eec-a1be86d26d4b",
   "metadata": {},
   "outputs": [
    {
     "data": {
      "image/png": "[encoded data removed]",
      "text/plain": [
       "<Figure size 1200x600 with 1 Axes>"
      ]
     },
     "metadata": {},
     "output_type": "display_data"
    }
   ],
   "source": [
    "# Brand popularity\n",
    "plt.figure(figsize=(12, 6))\n",
    "top_brands = perfumes['brand'].value_counts().nlargest(10)\n",
    "sns.barplot(x=top_brands, y=top_brands.index)\n",
    "plt.title('Top 10 Perfume Brands')\n",
    "plt.xlabel('Number of Listings')\n",
    "plt.ylabel('Brand')\n",
    "plt.show()"
   ]
  },
  {
   "cell_type": "markdown",
   "id": "19ca4968-6db5-4218-bf3b-41a0f86d7feb",
   "metadata": {},
   "source": [
    "- This plot shows the result of top 10 perfume brands\n",
    "- In this giorgia Armani holds the top spot\n",
    "- And the 10th spot hold by lancomne"
   ]
  },
  {
   "cell_type": "markdown",
   "id": "216abadc-b38d-49fa-86e2-c394a58be410",
   "metadata": {},
   "source": [
    "## Comparison of Men's and Women's Perfumes"
   ]
  },
  {
   "cell_type": "code",
   "execution_count": 116,
   "id": "4a254d66-b558-4a4d-b02a-6319719c764b",
   "metadata": {},
   "outputs": [
    {
     "data": {
      "image/png": "[encoded data removed]",
      "text/plain": [
       "<Figure size 1200x600 with 1 Axes>"
      ]
     },
     "metadata": {},
     "output_type": "display_data"
    }
   ],
   "source": [
    "# Geographical distribution of listings\n",
    "plt.figure(figsize=(12, 6))\n",
    "top_locations = perfumes['itemLocation'].value_counts().nlargest(10)\n",
    "sns.barplot(x=top_locations, y=top_locations.index)\n",
    "plt.title('Top 10 Item Locations')\n",
    "plt.xlabel('Number of Listings')\n",
    "plt.ylabel('Location')\n",
    "plt.show()"
   ]
  },
  {
   "cell_type": "markdown",
   "id": "7038c1d4-0080-4141-af18-45b0dcb908a8",
   "metadata": {},
   "source": [
    "- In this plot we can easily understand that the Dallas Texas recorded large number listing\n",
    "- The Warren , Detroit , newyork ,katy has lowest of below 50 listings"
   ]
  },
  {
   "cell_type": "markdown",
   "id": "d1f4aeec-1d18-49af-bdfc-771e15c1cadb",
   "metadata": {},
   "source": [
    "## 1. Number of Listings\n",
    "- First, we need to check the distribution of listings between men's and women's perfumes."
   ]
  },
  {
   "cell_type": "code",
   "execution_count": 118,
   "id": "b443d7d0-7f41-4977-b480-711c12d0f82e",
   "metadata": {},
   "outputs": [
    {
     "name": "stdout",
     "output_type": "stream",
     "text": [
      "gender\n",
      "men      1000\n",
      "women    1000\n",
      "Name: count, dtype: int64\n"
     ]
    }
   ],
   "source": [
    "gender_counts = perfumes['gender'].value_counts()\n",
    "print(gender_counts)"
   ]
  },
  {
   "cell_type": "markdown",
   "id": "8c70c643-adff-4b74-a2ec-05becb2f8527",
   "metadata": {},
   "source": [
    "## 2. Price Analysis\n",
    "- We will compare the price distribution for men's and women's perfumes to see if there are any significant differences"
   ]
  },
  {
   "cell_type": "code",
   "execution_count": 119,
   "id": "e5605fa2-dd8d-465f-919f-94984b93f40b",
   "metadata": {},
   "outputs": [
    {
     "data": {
      "image/png": "[encoded data removed]",
      "text/plain": [
       "<Figure size 1200x600 with 1 Axes>"
      ]
     },
     "metadata": {},
     "output_type": "display_data"
    }
   ],
   "source": [
    "import seaborn as sns\n",
    "\n",
    "plt.figure(figsize=(12, 6))\n",
    "\n",
    "sns.boxplot(x='gender', y='price', data=perfumes)\n",
    "plt.xlabel('gender')\n",
    "plt.ylabel('Price (USD)')\n",
    "plt.title('Price Comparison between Men\\'s and Women\\'s Perfumes')\n",
    "plt.show()"
   ]
  },
  {
   "cell_type": "markdown",
   "id": "d6cc05e0-8d60-417a-99dc-3ba8bd83bec2",
   "metadata": {},
   "source": [
    "- The boxplot compares the prices of men's and women's perfumes.\n",
    "- Both categories have similar median prices.\n",
    "- Men's perfumes show a slightly wider range of prices, with a few higher-priced outliers."
   ]
  },
  {
   "cell_type": "markdown",
   "id": "df04099d-809c-4c59-b862-0998a8adda30",
   "metadata": {},
   "source": [
    "## 3. Availability and Sales Performance\n",
    "- We will compare the availability and the number of items sold for men's and women's perfumes"
   ]
  },
  {
   "cell_type": "code",
   "execution_count": 121,
   "id": "b0e71604-7522-4f68-9066-92bd4b559ed1",
   "metadata": {},
   "outputs": [
    {
     "name": "stdout",
     "output_type": "stream",
     "text": [
      "Average Availability (Men): 17.82\n",
      "Average Availability (Women): 18.62\n",
      "Average Sold (Men): 761.67\n",
      "Average Sold (Women): 489.36\n"
     ]
    },
    {
     "data": {
      "image/png": "[encoded data removed]",
      "text/plain": [
       "<Figure size 1200x600 with 1 Axes>"
      ]
     },
     "metadata": {},
     "output_type": "display_data"
    }
   ],
   "source": [
    "# Average availability and sales for men's and women's perfumes\n",
    "men_data = perfumes[perfumes['gender'] == 'men']\n",
    "women_data = perfumes[perfumes['gender'] == 'women']\n",
    "\n",
    "men_avg_available = men_data['available'].mean()\n",
    "women_avg_available = women_data['available'].mean()\n",
    "men_avg_sold = men_data['sold'].mean()\n",
    "women_avg_sold = women_data['sold'].mean()\n",
    "\n",
    "print(f\"Average Availability (Men): {men_avg_available:.2f}\")\n",
    "print(f\"Average Availability (Women): {women_avg_available:.2f}\")\n",
    "print(f\"Average Sold (Men): {men_avg_sold:.2f}\")\n",
    "print(f\"Average Sold (Women): {women_avg_sold:.2f}\")\n",
    "\n",
    "# Scatter plot for availability vs. sales performance\n",
    "plt.figure(figsize=(12, 6))\n",
    "plt.scatter(men_data['available'], men_data['sold'], alpha=0.5, label='Men', color='blue')\n",
    "plt.scatter(women_data['available'], women_data['sold'], alpha=0.5, label='Women', color='red')\n",
    "plt.xlabel('Available Items')\n",
    "plt.ylabel('Sold Items')\n",
    "plt.title('Availability vs. Sales Performance (Men vs. Women)')\n",
    "plt.legend()\n",
    "plt.show()"
   ]
  },
  {
   "cell_type": "markdown",
   "id": "c6ea0465-c680-4295-923f-31f16e11a088",
   "metadata": {},
   "source": [
    "- The scatter plot differentiates between men's and women's perfumes.\n",
    "- Both categories show similar patterns in the relationship between availability and sales.\n",
    "- There are a few high-sale outliers in both categories, with men's perfumes showing slightly more variability.\n"
   ]
  },
  {
   "cell_type": "markdown",
   "id": "ba746b71-d78b-49c4-bf31-a63d88e182a3",
   "metadata": {},
   "source": [
    "## 4. Location Analysis\n",
    "- Finally, we will check if there are any differences in item locations for men's and women's perfumes."
   ]
  },
  {
   "cell_type": "code",
   "execution_count": 126,
   "id": "28000a88-8d8a-4e99-88e9-a746d8bd3582",
   "metadata": {},
   "outputs": [
    {
     "name": "stdout",
     "output_type": "stream",
     "text": [
      "Top Locations for Men's Perfumes:\n",
      "itemLocation\n",
      "Dallas, Texas, United States             126\n",
      "Hackensack, New Jersey, United States    105\n",
      "Brooklyn, New York, United States         76\n",
      "Miami, Florida, United States             41\n",
      "Edison, New Jersey, United States         35\n",
      "Houston, Texas, United States             28\n",
      "Katy, Texas, United States                25\n",
      "Detroit, Michigan, United States          22\n",
      "New York, New York, United States         21\n",
      "Warren, Michigan, United States           14\n",
      "Name: count, dtype: int64\n",
      "\n",
      "Top Locations for Women's Perfumes:\n",
      "itemLocation\n",
      "Dallas, Texas, United States             141\n",
      "Hackensack, New Jersey, United States     85\n",
      "Brooklyn, New York, United States         35\n",
      "Miami, Florida, United States             32\n",
      "Edison, New Jersey, United States         26\n",
      "Detroit, Michigan, United States          25\n",
      "Las Vegas, Nevada, United States          23\n",
      "New York, New York, United States         19\n",
      "Houston, Texas, United States             19\n",
      "Warren, Michigan, United States           18\n",
      "Name: count, dtype: int64\n"
     ]
    }
   ],
   "source": [
    "# Top locations for men's and women's perfumes\r\n",
    "men_location_counts = men_data['itemLocation'].value_counts().head(10)\r\n",
    "women_location_counts = women_data['itemLocation'].value_counts().head(10)\r\n",
    "\r\n",
    "print(\"Top Locations for Men's Perfumes:\")\r\n",
    "print(men_location_counts)\r\n",
    "print(\"\\nTop Locations for Women's Perfumes:\")\r\n",
    "print(women_location_counts)"
   ]
  },
  {
   "cell_type": "markdown",
   "id": "2877eb13-e5b7-4556-bf22-e1de97ed64b0",
   "metadata": {},
   "source": [
    "### mens perfume location\n",
    "- This information is about the levels of perfume in men\n",
    "- More perfumes are available in Texas US 126\n",
    "- There is minimal perfumes available in the Michigan US 14"
   ]
  },
  {
   "cell_type": "markdown",
   "id": "939139c7-0a1d-4fde-8845-95074e7e6d9b",
   "metadata": {},
   "source": [
    "### womens perfume location\n",
    "- This information is about the levels of perfume in women\n",
    "- More perfumes are available in Texas US 141\n",
    "- There is minimal perfumes available in the Michigan US 18"
   ]
  },
  {
   "cell_type": "markdown",
   "id": "ba73ef3d-6247-4bdf-bc1e-0c94ce13296a",
   "metadata": {},
   "source": [
    "## 5.HEAT MAP"
   ]
  },
  {
   "cell_type": "code",
   "execution_count": 54,
   "id": "0ae2fdcd-d14c-49f3-87b8-778e5fa0fcce",
   "metadata": {},
   "outputs": [
    {
     "data": {
      "image/png": "[encoded data removed]",
      "text/plain": [
       "<Figure size 1200x600 with 2 Axes>"
      ]
     },
     "metadata": {},
     "output_type": "display_data"
    }
   ],
   "source": [
    "# select specificcolumns\n",
    "selected_columns= ['sold','price']\n",
    "df_selected = perfumes[selected_columns]\n",
    "\n",
    "# compute the corection matrix\n",
    "correlation_matrix = df_selected.corr()\n",
    "\n",
    "# plot the head map\n",
    "plt.figure(figsize=(12,6))\n",
    "sns.heatmap(correlation_matrix,annot=True,cmap='coolwarm',linewidth=.5,fmt=\".2f\")\n",
    "plt.title('Heatmap of two columns')\n",
    "plt.show()"
   ]
  },
  {
   "cell_type": "markdown",
   "id": "9b033e23-8ab6-4bbd-9b67-b497c4ac9093",
   "metadata": {},
   "source": [
    "- This Heat map shows that the both price and items are negatively correlated"
   ]
  },
  {
   "cell_type": "code",
   "execution_count": 57,
   "id": "0d508339-dc81-44eb-9435-e4a754a60007",
   "metadata": {},
   "outputs": [
    {
     "name": "stdout",
     "output_type": "stream",
     "text": [
      "T-statistic:2.2843123108684993\n",
      "P-value:0.022457579698613218\n",
      "Reject null hypothesis at alpha =0.05\n"
     ]
    }
   ],
   "source": [
    "from scipy.stats import ttest_1samp\n",
    "hm = 500  # HYPOTHESISED MEAN  \n",
    "t_stat, p_value = ttest_1samp(perfumes['sold'],hm)\n",
    "alpha = 0.05 # acceptance error percent\n",
    "print(f\"T-statistic:{t_stat}\")\n",
    "print(f\"P-value:{p_value}\")\n",
    "if p_value<alpha:\n",
    "    print(f\"Reject null hypothesis at alpha ={alpha}\")\n",
    "else:\n",
    "    print(f\"Faild to reject null hypothesis at alpha = {alpha}\")"
   ]
  },
  {
   "cell_type": "code",
   "execution_count": null,
   "id": "834eb74e-6189-440e-895b-8b29394e984b",
   "metadata": {},
   "outputs": [],
   "source": []
  }
 ],
 "metadata": {
  "kernelspec": {
   "display_name": "Python 3 (ipykernel)",
   "language": "python",
   "name": "python3"
  },
  "language_info": {
   "codemirror_mode": {
    "name": "ipython",
    "version": 3
   },
   "file_extension": ".py",
   "mimetype": "text/x-python",
   "name": "python",
   "nbconvert_exporter": "python",
   "pygments_lexer": "ipython3",
   "version": "3.11.7"
  }
 },
 "nbformat": 4,
 "nbformat_minor": 5
}
